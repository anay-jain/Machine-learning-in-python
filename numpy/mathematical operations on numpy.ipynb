{
 "cells": [
  {
   "cell_type": "code",
   "execution_count": 1,
   "metadata": {},
   "outputs": [],
   "source": [
    "import numpy as np"
   ]
  },
  {
   "cell_type": "code",
   "execution_count": 4,
   "metadata": {},
   "outputs": [
    {
     "name": "stdout",
     "output_type": "stream",
     "text": [
      "[[ 5  7]\n",
      " [ 9 11]]\n",
      "[[ 5  7]\n",
      " [ 9 11]]\n",
      "[[-3 -3]\n",
      " [-3 -3]]\n"
     ]
    }
   ],
   "source": [
    "# mathematical operations\n",
    "x =np.array([[1,2],[3,4]])\n",
    "y=np.array([[4,5],[6,7]])\n",
    "# element vise addition\n",
    "print(x+y)\n",
    "print(np.add(x,y))\n",
    "print(np.subtract(x,y)) # multiply , divide ,sqrt are respective functions "
   ]
  },
  {
   "cell_type": "code",
   "execution_count": 5,
   "metadata": {},
   "outputs": [
    {
     "name": "stdout",
     "output_type": "stream",
     "text": [
      "[[16 19]\n",
      " [36 43]]\n"
     ]
    }
   ],
   "source": [
    "#matrix multiplication / dot product \n",
    "print(np.dot(x,y))"
   ]
  },
  {
   "cell_type": "code",
   "execution_count": 6,
   "metadata": {},
   "outputs": [
    {
     "name": "stdout",
     "output_type": "stream",
     "text": [
      "30\n"
     ]
    }
   ],
   "source": [
    "# multiplication(dot product) of vectors - Scalar\n",
    "a=np.array([1,2,3,4])\n",
    "b=np.array([1,2,3,4])\n",
    "print(a.dot(b))"
   ]
  },
  {
   "cell_type": "code",
   "execution_count": 7,
   "metadata": {},
   "outputs": [
    {
     "name": "stdout",
     "output_type": "stream",
     "text": [
      "[1 2 3 4]\n",
      "10\n"
     ]
    }
   ],
   "source": [
    "# can be used to sum in a linear matrix\n",
    "print(a)\n",
    "print(sum(a))"
   ]
  },
  {
   "cell_type": "code",
   "execution_count": 9,
   "metadata": {},
   "outputs": [
    {
     "name": "stdout",
     "output_type": "stream",
     "text": [
      "[[1 2]\n",
      " [3 4]]\n",
      "sum about axis = 0 is\n",
      "[4 6]\n"
     ]
    }
   ],
   "source": [
    "# np sum function takes another parameter called axis \n",
    "#axis =0 . add through coloums\n",
    "print(x)\n",
    "print(\"sum about axis = 0 is\" )\n",
    "print(np.sum(x,axis=0))"
   ]
  },
  {
   "cell_type": "code",
   "execution_count": 10,
   "metadata": {},
   "outputs": [
    {
     "name": "stdout",
     "output_type": "stream",
     "text": [
      "[1 2 3 4]\n",
      "[1 2 3 4]\n"
     ]
    }
   ],
   "source": [
    "# stack function \n",
    "print(a)\n",
    "print(b)"
   ]
  },
  {
   "cell_type": "code",
   "execution_count": 11,
   "metadata": {},
   "outputs": [],
   "source": [
    "b = b**2"
   ]
  },
  {
   "cell_type": "code",
   "execution_count": 16,
   "metadata": {},
   "outputs": [
    {
     "name": "stdout",
     "output_type": "stream",
     "text": [
      "[[ 1  1]\n",
      " [ 2  4]\n",
      " [ 3  9]\n",
      " [ 4 16]]\n"
     ]
    }
   ],
   "source": [
    "# to stack function along axis =1 \n",
    "a=np.stack((a,b) , axis =1)\n",
    "print(a)"
   ]
  },
  {
   "cell_type": "code",
   "execution_count": 20,
   "metadata": {},
   "outputs": [
    {
     "name": "stdout",
     "output_type": "stream",
     "text": [
      "[[ 1  1]\n",
      " [ 2  4]\n",
      " [ 3  9]\n",
      " [ 4 16]]\n"
     ]
    }
   ],
   "source": [
    "# reshape a numpy array\n",
    "a=a.reshape((4,2))\n",
    "print(a)"
   ]
  },
  {
   "cell_type": "code",
   "execution_count": null,
   "metadata": {},
   "outputs": [],
   "source": [
    "# if you dont know the row or column , then write -1\n",
    "a=a.reshape(())"
   ]
  }
 ],
 "metadata": {
  "kernelspec": {
   "display_name": "Python 3",
   "language": "python",
   "name": "python3"
  },
  "language_info": {
   "codemirror_mode": {
    "name": "ipython",
    "version": 3
   },
   "file_extension": ".py",
   "mimetype": "text/x-python",
   "name": "python",
   "nbconvert_exporter": "python",
   "pygments_lexer": "ipython3",
   "version": "3.6.7"
  }
 },
 "nbformat": 4,
 "nbformat_minor": 2
}
