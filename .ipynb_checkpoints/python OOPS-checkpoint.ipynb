{
 "cells": [
  {
   "cell_type": "code",
   "execution_count": 1,
   "metadata": {},
   "outputs": [
    {
     "name": "stdout",
     "output_type": "stream",
     "text": [
      "<__main__.Person object at 0x7f63a8332e10>\n"
     ]
    }
   ],
   "source": [
    "#oops\n",
    "class Person():\n",
    "    pass\n",
    "p = Person()\n",
    "print(p)"
   ]
  },
  {
   "cell_type": "code",
   "execution_count": 5,
   "metadata": {},
   "outputs": [
    {
     "name": "stdout",
     "output_type": "stream",
     "text": [
      "Hello\n"
     ]
    }
   ],
   "source": [
    "#one person class\n",
    "class Person():\n",
    "    \n",
    "    def sayHi(self):\n",
    "        print(\"Hello\")\n",
    "p = Person()\n",
    "p.sayHi()"
   ]
  },
  {
   "cell_type": "code",
   "execution_count": 4,
   "metadata": {},
   "outputs": [
    {
     "name": "stdout",
     "output_type": "stream",
     "text": [
      "I am  anay\n",
      "from  google\n"
     ]
    }
   ],
   "source": [
    "# first parameter should always be self:\n",
    "class Person():\n",
    "    nationality = \"Indian\" # class variables , common for all variables\n",
    "    def __init__(self,pname,clg):\n",
    "        self.name = pname # instance variables , dif instance for each class\n",
    "        self.college = clg\n",
    "    def sayHi(self,name):\n",
    "        print(\"hello \" , name )\n",
    "    def introduce(self): # ONLY CALLED SELF\n",
    "        print(\"I am \", self.name)\n",
    "        print(\"from \",self.college)\n",
    "        \n",
    "p=Person(\"anay\" ,\"google\")\n",
    "p.introduce()"
   ]
  },
  {
   "cell_type": "code",
   "execution_count": null,
   "metadata": {},
   "outputs": [],
   "source": [
    "class Dog():\n",
    "    color = \"Brown\"\n",
    "    activities = []\n",
    "    def __init__(self,breed):\n",
    "        self.breed = breed\n",
    "    def addActivity(self,act):\n",
    "        self.activities.append(act)\n",
    "    def doActivity(self):\n",
    "        print(self.breed)\n",
    "        print(self.activities)"
   ]
  }
 ],
 "metadata": {
  "kernelspec": {
   "display_name": "Python 3",
   "language": "python",
   "name": "python3"
  },
  "language_info": {
   "codemirror_mode": {
    "name": "ipython",
    "version": 3
   },
   "file_extension": ".py",
   "mimetype": "text/x-python",
   "name": "python",
   "nbconvert_exporter": "python",
   "pygments_lexer": "ipython3",
   "version": "3.6.7"
  }
 },
 "nbformat": 4,
 "nbformat_minor": 2
}
